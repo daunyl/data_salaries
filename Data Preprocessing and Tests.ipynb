{
 "cells": [
  {
   "cell_type": "markdown",
   "id": "8ee4e586-299c-44a5-82ff-77749fa0511e",
   "metadata": {},
   "source": [
    "# Data Preprocessing"
   ]
  },
  {
   "cell_type": "markdown",
   "id": "82ac5192-1f67-455a-8dbd-0597b94031f2",
   "metadata": {},
   "source": [
    "## Import libraries"
   ]
  },
  {
   "cell_type": "code",
   "execution_count": 186,
   "id": "648b4e1a-3297-4448-b9a3-4c99daef52f9",
   "metadata": {
    "tags": []
   },
   "outputs": [],
   "source": [
    "import pandas as pd\n",
    "import numpy as np\n",
    "\n",
    "import matplotlib.pyplot as plt\n",
    "import seaborn as sns\n",
    "\n",
    "from scipy import stats\n",
    "import random\n",
    "import pycountry"
   ]
  },
  {
   "cell_type": "markdown",
   "id": "810d3cd8-0a10-4205-b23c-166c3d2c34d9",
   "metadata": {},
   "source": [
    "## Read the data"
   ]
  },
  {
   "cell_type": "code",
   "execution_count": 110,
   "id": "88bfeae7-b27d-44e0-8b7d-4e3a0e683a1c",
   "metadata": {
    "tags": []
   },
   "outputs": [
    {
     "data": {
      "text/html": [
       "<div>\n",
       "<style scoped>\n",
       "    .dataframe tbody tr th:only-of-type {\n",
       "        vertical-align: middle;\n",
       "    }\n",
       "\n",
       "    .dataframe tbody tr th {\n",
       "        vertical-align: top;\n",
       "    }\n",
       "\n",
       "    .dataframe thead th {\n",
       "        text-align: right;\n",
       "    }\n",
       "</style>\n",
       "<table border=\"1\" class=\"dataframe\">\n",
       "  <thead>\n",
       "    <tr style=\"text-align: right;\">\n",
       "      <th></th>\n",
       "      <th>work_year</th>\n",
       "      <th>experience_level</th>\n",
       "      <th>employment_type</th>\n",
       "      <th>job_title</th>\n",
       "      <th>salary</th>\n",
       "      <th>salary_currency</th>\n",
       "      <th>salary_in_usd</th>\n",
       "      <th>employee_residence</th>\n",
       "      <th>remote_ratio</th>\n",
       "      <th>company_location</th>\n",
       "      <th>company_size</th>\n",
       "    </tr>\n",
       "  </thead>\n",
       "  <tbody>\n",
       "    <tr>\n",
       "      <th>0</th>\n",
       "      <td>2023</td>\n",
       "      <td>SE</td>\n",
       "      <td>FT</td>\n",
       "      <td>Business Intelligence Engineer</td>\n",
       "      <td>202800</td>\n",
       "      <td>USD</td>\n",
       "      <td>202800</td>\n",
       "      <td>US</td>\n",
       "      <td>0</td>\n",
       "      <td>US</td>\n",
       "      <td>L</td>\n",
       "    </tr>\n",
       "    <tr>\n",
       "      <th>1</th>\n",
       "      <td>2023</td>\n",
       "      <td>SE</td>\n",
       "      <td>FT</td>\n",
       "      <td>Business Intelligence Engineer</td>\n",
       "      <td>104300</td>\n",
       "      <td>USD</td>\n",
       "      <td>104300</td>\n",
       "      <td>US</td>\n",
       "      <td>0</td>\n",
       "      <td>US</td>\n",
       "      <td>L</td>\n",
       "    </tr>\n",
       "    <tr>\n",
       "      <th>2</th>\n",
       "      <td>2023</td>\n",
       "      <td>MI</td>\n",
       "      <td>FT</td>\n",
       "      <td>Data Manager</td>\n",
       "      <td>60000</td>\n",
       "      <td>GBP</td>\n",
       "      <td>73824</td>\n",
       "      <td>GB</td>\n",
       "      <td>0</td>\n",
       "      <td>GB</td>\n",
       "      <td>M</td>\n",
       "    </tr>\n",
       "    <tr>\n",
       "      <th>3</th>\n",
       "      <td>2023</td>\n",
       "      <td>MI</td>\n",
       "      <td>FT</td>\n",
       "      <td>Data Manager</td>\n",
       "      <td>55000</td>\n",
       "      <td>GBP</td>\n",
       "      <td>67672</td>\n",
       "      <td>GB</td>\n",
       "      <td>0</td>\n",
       "      <td>GB</td>\n",
       "      <td>M</td>\n",
       "    </tr>\n",
       "    <tr>\n",
       "      <th>4</th>\n",
       "      <td>2023</td>\n",
       "      <td>SE</td>\n",
       "      <td>FT</td>\n",
       "      <td>Data Scientist</td>\n",
       "      <td>290000</td>\n",
       "      <td>USD</td>\n",
       "      <td>290000</td>\n",
       "      <td>US</td>\n",
       "      <td>0</td>\n",
       "      <td>US</td>\n",
       "      <td>M</td>\n",
       "    </tr>\n",
       "  </tbody>\n",
       "</table>\n",
       "</div>"
      ],
      "text/plain": [
       "   work_year experience_level employment_type                       job_title  \\\n",
       "0       2023               SE              FT  Business Intelligence Engineer   \n",
       "1       2023               SE              FT  Business Intelligence Engineer   \n",
       "2       2023               MI              FT                    Data Manager   \n",
       "3       2023               MI              FT                    Data Manager   \n",
       "4       2023               SE              FT                  Data Scientist   \n",
       "\n",
       "   salary salary_currency  salary_in_usd employee_residence  remote_ratio  \\\n",
       "0  202800             USD         202800                 US             0   \n",
       "1  104300             USD         104300                 US             0   \n",
       "2   60000             GBP          73824                 GB             0   \n",
       "3   55000             GBP          67672                 GB             0   \n",
       "4  290000             USD         290000                 US             0   \n",
       "\n",
       "  company_location company_size  \n",
       "0               US            L  \n",
       "1               US            L  \n",
       "2               GB            M  \n",
       "3               GB            M  \n",
       "4               US            M  "
      ]
     },
     "execution_count": 110,
     "metadata": {},
     "output_type": "execute_result"
    }
   ],
   "source": [
    "df = pd.read_csv('salaries.csv')\n",
    "df.head()"
   ]
  },
  {
   "cell_type": "code",
   "execution_count": 111,
   "id": "35d808e9-6511-4a2e-b1b1-5bceede315c0",
   "metadata": {
    "tags": []
   },
   "outputs": [
    {
     "data": {
      "text/plain": [
       "(7974, 11)"
      ]
     },
     "execution_count": 111,
     "metadata": {},
     "output_type": "execute_result"
    }
   ],
   "source": [
    "df.shape"
   ]
  },
  {
   "cell_type": "markdown",
   "id": "a409a230-8396-4b42-b969-8fe4a318b534",
   "metadata": {},
   "source": [
    "## Data Exploration\n",
    "\n",
    "* work_year: The year the salary was paid.\n",
    "* experience_level: The experience level in the job during the year\n",
    "```\n",
    "EN: Entry-level / Junior\n",
    "MI: Mid-level / Intermediate\n",
    "SE: Senior-level / Expert\n",
    "EX: Executive-level / Director\n",
    "```\n",
    "* employment_type: The type of employement for the role\n",
    "```\n",
    "PT: Part-time\n",
    "FT: Full-time\n",
    "CT: Contract\n",
    "FL: Freelance\n",
    "```\n",
    "* job_title: The role worked in during the year.\n",
    "* salary: The total gross salary amount paid.\n",
    "* salary_currency: The currency of the salary paid as an ISO 4217 currency code.\n",
    "* salary_in_usd: The salary in USD (FX rate divided by avg. USD rate of respective year via data from fxdata.foorilla.com).\n",
    "* employee_residence: Employee's primary country of residence in during the work year as an ISO 3166 country code.\n",
    "* remote_ratio: The overall amount of work done remotely\n",
    "```\n",
    "0: No remote work (less than 20%)\n",
    "50: Partially remote/hybrid\n",
    "100: Fully remote (more than 80%)\n",
    "```\n",
    "* company_location: The country of the employer's main office or contracting branch as an ISO 3166 country code.\n",
    "* company_size: The average number of people that worked for the company during the year\n",
    "```\n",
    "S: less than 50 employees (small)\n",
    "M: 50 to 250 employees (medium)\n",
    "L: more than 250 employees (large)\n",
    "```"
   ]
  },
  {
   "cell_type": "code",
   "execution_count": 112,
   "id": "fedc34f1-5f75-4b6a-b7e4-aa7d89befd2f",
   "metadata": {
    "tags": []
   },
   "outputs": [
    {
     "name": "stdout",
     "output_type": "stream",
     "text": [
      "<class 'pandas.core.frame.DataFrame'>\n",
      "RangeIndex: 7974 entries, 0 to 7973\n",
      "Data columns (total 11 columns):\n",
      " #   Column              Non-Null Count  Dtype \n",
      "---  ------              --------------  ----- \n",
      " 0   work_year           7974 non-null   int64 \n",
      " 1   experience_level    7974 non-null   object\n",
      " 2   employment_type     7974 non-null   object\n",
      " 3   job_title           7974 non-null   object\n",
      " 4   salary              7974 non-null   int64 \n",
      " 5   salary_currency     7974 non-null   object\n",
      " 6   salary_in_usd       7974 non-null   int64 \n",
      " 7   employee_residence  7974 non-null   object\n",
      " 8   remote_ratio        7974 non-null   int64 \n",
      " 9   company_location    7974 non-null   object\n",
      " 10  company_size        7974 non-null   object\n",
      "dtypes: int64(4), object(7)\n",
      "memory usage: 685.4+ KB\n"
     ]
    }
   ],
   "source": [
    "df.info()"
   ]
  },
  {
   "cell_type": "code",
   "execution_count": 113,
   "id": "68658be8-bc5f-4533-8598-9659d4ce120d",
   "metadata": {
    "tags": []
   },
   "outputs": [
    {
     "data": {
      "text/plain": [
       "work_year             0\n",
       "experience_level      0\n",
       "employment_type       0\n",
       "job_title             0\n",
       "salary                0\n",
       "salary_currency       0\n",
       "salary_in_usd         0\n",
       "employee_residence    0\n",
       "remote_ratio          0\n",
       "company_location      0\n",
       "company_size          0\n",
       "dtype: int64"
      ]
     },
     "execution_count": 113,
     "metadata": {},
     "output_type": "execute_result"
    }
   ],
   "source": [
    "df.isna().sum()"
   ]
  },
  {
   "cell_type": "code",
   "execution_count": 114,
   "id": "5b37c3b4-f27c-4257-a822-8767c7022f4b",
   "metadata": {
    "tags": []
   },
   "outputs": [
    {
     "data": {
      "text/html": [
       "<div>\n",
       "<style scoped>\n",
       "    .dataframe tbody tr th:only-of-type {\n",
       "        vertical-align: middle;\n",
       "    }\n",
       "\n",
       "    .dataframe tbody tr th {\n",
       "        vertical-align: top;\n",
       "    }\n",
       "\n",
       "    .dataframe thead th {\n",
       "        text-align: right;\n",
       "    }\n",
       "</style>\n",
       "<table border=\"1\" class=\"dataframe\">\n",
       "  <thead>\n",
       "    <tr style=\"text-align: right;\">\n",
       "      <th></th>\n",
       "      <th>experience_level</th>\n",
       "      <th>employment_type</th>\n",
       "      <th>job_title</th>\n",
       "      <th>salary_currency</th>\n",
       "      <th>employee_residence</th>\n",
       "      <th>company_location</th>\n",
       "      <th>company_size</th>\n",
       "    </tr>\n",
       "  </thead>\n",
       "  <tbody>\n",
       "    <tr>\n",
       "      <th>count</th>\n",
       "      <td>7974</td>\n",
       "      <td>7974</td>\n",
       "      <td>7974</td>\n",
       "      <td>7974</td>\n",
       "      <td>7974</td>\n",
       "      <td>7974</td>\n",
       "      <td>7974</td>\n",
       "    </tr>\n",
       "    <tr>\n",
       "      <th>unique</th>\n",
       "      <td>4</td>\n",
       "      <td>4</td>\n",
       "      <td>118</td>\n",
       "      <td>22</td>\n",
       "      <td>85</td>\n",
       "      <td>73</td>\n",
       "      <td>3</td>\n",
       "    </tr>\n",
       "    <tr>\n",
       "      <th>top</th>\n",
       "      <td>SE</td>\n",
       "      <td>FT</td>\n",
       "      <td>Data Engineer</td>\n",
       "      <td>USD</td>\n",
       "      <td>US</td>\n",
       "      <td>US</td>\n",
       "      <td>M</td>\n",
       "    </tr>\n",
       "    <tr>\n",
       "      <th>freq</th>\n",
       "      <td>5754</td>\n",
       "      <td>7932</td>\n",
       "      <td>1888</td>\n",
       "      <td>7216</td>\n",
       "      <td>6770</td>\n",
       "      <td>6817</td>\n",
       "      <td>7108</td>\n",
       "    </tr>\n",
       "  </tbody>\n",
       "</table>\n",
       "</div>"
      ],
      "text/plain": [
       "       experience_level employment_type      job_title salary_currency  \\\n",
       "count              7974            7974           7974            7974   \n",
       "unique                4               4            118              22   \n",
       "top                  SE              FT  Data Engineer             USD   \n",
       "freq               5754            7932           1888            7216   \n",
       "\n",
       "       employee_residence company_location company_size  \n",
       "count                7974             7974         7974  \n",
       "unique                 85               73            3  \n",
       "top                    US               US            M  \n",
       "freq                 6770             6817         7108  "
      ]
     },
     "execution_count": 114,
     "metadata": {},
     "output_type": "execute_result"
    }
   ],
   "source": [
    "df.describe(include='object')"
   ]
  },
  {
   "cell_type": "code",
   "execution_count": 115,
   "id": "0d39d7fb-dd01-4d6a-9245-137dc2a4e20b",
   "metadata": {
    "tags": []
   },
   "outputs": [
    {
     "data": {
      "text/html": [
       "<div>\n",
       "<style scoped>\n",
       "    .dataframe tbody tr th:only-of-type {\n",
       "        vertical-align: middle;\n",
       "    }\n",
       "\n",
       "    .dataframe tbody tr th {\n",
       "        vertical-align: top;\n",
       "    }\n",
       "\n",
       "    .dataframe thead th {\n",
       "        text-align: right;\n",
       "    }\n",
       "</style>\n",
       "<table border=\"1\" class=\"dataframe\">\n",
       "  <thead>\n",
       "    <tr style=\"text-align: right;\">\n",
       "      <th></th>\n",
       "      <th>work_year</th>\n",
       "      <th>salary</th>\n",
       "      <th>salary_in_usd</th>\n",
       "      <th>remote_ratio</th>\n",
       "    </tr>\n",
       "  </thead>\n",
       "  <tbody>\n",
       "    <tr>\n",
       "      <th>count</th>\n",
       "      <td>7974.000000</td>\n",
       "      <td>7.974000e+03</td>\n",
       "      <td>7974.000000</td>\n",
       "      <td>7974.000000</td>\n",
       "    </tr>\n",
       "    <tr>\n",
       "      <th>mean</th>\n",
       "      <td>2022.710183</td>\n",
       "      <td>1.766936e+05</td>\n",
       "      <td>149369.311262</td>\n",
       "      <td>39.942313</td>\n",
       "    </tr>\n",
       "    <tr>\n",
       "      <th>std</th>\n",
       "      <td>0.563004</td>\n",
       "      <td>4.757161e+05</td>\n",
       "      <td>64057.210110</td>\n",
       "      <td>48.284731</td>\n",
       "    </tr>\n",
       "    <tr>\n",
       "      <th>min</th>\n",
       "      <td>2020.000000</td>\n",
       "      <td>1.400000e+04</td>\n",
       "      <td>15000.000000</td>\n",
       "      <td>0.000000</td>\n",
       "    </tr>\n",
       "    <tr>\n",
       "      <th>25%</th>\n",
       "      <td>2023.000000</td>\n",
       "      <td>1.060000e+05</td>\n",
       "      <td>105000.000000</td>\n",
       "      <td>0.000000</td>\n",
       "    </tr>\n",
       "    <tr>\n",
       "      <th>50%</th>\n",
       "      <td>2023.000000</td>\n",
       "      <td>1.449270e+05</td>\n",
       "      <td>142200.000000</td>\n",
       "      <td>0.000000</td>\n",
       "    </tr>\n",
       "    <tr>\n",
       "      <th>75%</th>\n",
       "      <td>2023.000000</td>\n",
       "      <td>1.900000e+05</td>\n",
       "      <td>185900.000000</td>\n",
       "      <td>100.000000</td>\n",
       "    </tr>\n",
       "    <tr>\n",
       "      <th>max</th>\n",
       "      <td>2023.000000</td>\n",
       "      <td>3.040000e+07</td>\n",
       "      <td>450000.000000</td>\n",
       "      <td>100.000000</td>\n",
       "    </tr>\n",
       "  </tbody>\n",
       "</table>\n",
       "</div>"
      ],
      "text/plain": [
       "         work_year        salary  salary_in_usd  remote_ratio\n",
       "count  7974.000000  7.974000e+03    7974.000000   7974.000000\n",
       "mean   2022.710183  1.766936e+05  149369.311262     39.942313\n",
       "std       0.563004  4.757161e+05   64057.210110     48.284731\n",
       "min    2020.000000  1.400000e+04   15000.000000      0.000000\n",
       "25%    2023.000000  1.060000e+05  105000.000000      0.000000\n",
       "50%    2023.000000  1.449270e+05  142200.000000      0.000000\n",
       "75%    2023.000000  1.900000e+05  185900.000000    100.000000\n",
       "max    2023.000000  3.040000e+07  450000.000000    100.000000"
      ]
     },
     "execution_count": 115,
     "metadata": {},
     "output_type": "execute_result"
    }
   ],
   "source": [
    "df.describe(exclude='object')"
   ]
  },
  {
   "cell_type": "markdown",
   "id": "1cb213a6-8188-4659-a7a5-4dc6013350e2",
   "metadata": {},
   "source": [
    "## Dtypes checking"
   ]
  },
  {
   "cell_type": "code",
   "execution_count": 116,
   "id": "0f377556-e6f8-43e6-9a7a-68823a55156c",
   "metadata": {
    "tags": []
   },
   "outputs": [
    {
     "data": {
      "text/plain": [
       "work_year              int64\n",
       "experience_level      object\n",
       "employment_type       object\n",
       "job_title             object\n",
       "salary                 int64\n",
       "salary_currency       object\n",
       "salary_in_usd          int64\n",
       "employee_residence    object\n",
       "remote_ratio           int64\n",
       "company_location      object\n",
       "company_size          object\n",
       "dtype: object"
      ]
     },
     "execution_count": 116,
     "metadata": {},
     "output_type": "execute_result"
    }
   ],
   "source": [
    "df.dtypes"
   ]
  },
  {
   "cell_type": "code",
   "execution_count": 117,
   "id": "e46f1bd9-8e92-41c7-9859-efa6e6fd17fd",
   "metadata": {
    "tags": []
   },
   "outputs": [],
   "source": [
    "df['salary'] = df['salary'].astype(float)\n",
    "df['salary_in_usd'] = df['salary_in_usd'].astype(float)"
   ]
  },
  {
   "cell_type": "markdown",
   "id": "c37f9421-29d5-4b10-b034-eb311a7b2488",
   "metadata": {},
   "source": [
    "## Data cleaning"
   ]
  },
  {
   "cell_type": "code",
   "execution_count": 118,
   "id": "ad5efb10-1a5f-4b07-b9b3-7bff06bdfc9c",
   "metadata": {
    "tags": []
   },
   "outputs": [
    {
     "data": {
      "text/html": [
       "<div>\n",
       "<style scoped>\n",
       "    .dataframe tbody tr th:only-of-type {\n",
       "        vertical-align: middle;\n",
       "    }\n",
       "\n",
       "    .dataframe tbody tr th {\n",
       "        vertical-align: top;\n",
       "    }\n",
       "\n",
       "    .dataframe thead th {\n",
       "        text-align: right;\n",
       "    }\n",
       "</style>\n",
       "<table border=\"1\" class=\"dataframe\">\n",
       "  <thead>\n",
       "    <tr style=\"text-align: right;\">\n",
       "      <th></th>\n",
       "      <th>work_year</th>\n",
       "      <th>experience_level</th>\n",
       "      <th>employment_type</th>\n",
       "      <th>job_title</th>\n",
       "      <th>salary</th>\n",
       "      <th>salary_currency</th>\n",
       "      <th>salary_in_usd</th>\n",
       "      <th>employee_residence</th>\n",
       "      <th>remote_ratio</th>\n",
       "      <th>company_location</th>\n",
       "      <th>company_size</th>\n",
       "    </tr>\n",
       "  </thead>\n",
       "  <tbody>\n",
       "    <tr>\n",
       "      <th>0</th>\n",
       "      <td>2023</td>\n",
       "      <td>SE</td>\n",
       "      <td>FT</td>\n",
       "      <td>Business Intelligence Engineer</td>\n",
       "      <td>202800.0</td>\n",
       "      <td>USD</td>\n",
       "      <td>202800.0</td>\n",
       "      <td>US</td>\n",
       "      <td>0</td>\n",
       "      <td>US</td>\n",
       "      <td>L</td>\n",
       "    </tr>\n",
       "    <tr>\n",
       "      <th>1</th>\n",
       "      <td>2023</td>\n",
       "      <td>SE</td>\n",
       "      <td>FT</td>\n",
       "      <td>Business Intelligence Engineer</td>\n",
       "      <td>104300.0</td>\n",
       "      <td>USD</td>\n",
       "      <td>104300.0</td>\n",
       "      <td>US</td>\n",
       "      <td>0</td>\n",
       "      <td>US</td>\n",
       "      <td>L</td>\n",
       "    </tr>\n",
       "    <tr>\n",
       "      <th>2</th>\n",
       "      <td>2023</td>\n",
       "      <td>MI</td>\n",
       "      <td>FT</td>\n",
       "      <td>Data Manager</td>\n",
       "      <td>60000.0</td>\n",
       "      <td>GBP</td>\n",
       "      <td>73824.0</td>\n",
       "      <td>GB</td>\n",
       "      <td>0</td>\n",
       "      <td>GB</td>\n",
       "      <td>M</td>\n",
       "    </tr>\n",
       "    <tr>\n",
       "      <th>3</th>\n",
       "      <td>2023</td>\n",
       "      <td>MI</td>\n",
       "      <td>FT</td>\n",
       "      <td>Data Manager</td>\n",
       "      <td>55000.0</td>\n",
       "      <td>GBP</td>\n",
       "      <td>67672.0</td>\n",
       "      <td>GB</td>\n",
       "      <td>0</td>\n",
       "      <td>GB</td>\n",
       "      <td>M</td>\n",
       "    </tr>\n",
       "    <tr>\n",
       "      <th>4</th>\n",
       "      <td>2023</td>\n",
       "      <td>SE</td>\n",
       "      <td>FT</td>\n",
       "      <td>Data Scientist</td>\n",
       "      <td>290000.0</td>\n",
       "      <td>USD</td>\n",
       "      <td>290000.0</td>\n",
       "      <td>US</td>\n",
       "      <td>0</td>\n",
       "      <td>US</td>\n",
       "      <td>M</td>\n",
       "    </tr>\n",
       "  </tbody>\n",
       "</table>\n",
       "</div>"
      ],
      "text/plain": [
       "   work_year experience_level employment_type                       job_title  \\\n",
       "0       2023               SE              FT  Business Intelligence Engineer   \n",
       "1       2023               SE              FT  Business Intelligence Engineer   \n",
       "2       2023               MI              FT                    Data Manager   \n",
       "3       2023               MI              FT                    Data Manager   \n",
       "4       2023               SE              FT                  Data Scientist   \n",
       "\n",
       "     salary salary_currency  salary_in_usd employee_residence  remote_ratio  \\\n",
       "0  202800.0             USD       202800.0                 US             0   \n",
       "1  104300.0             USD       104300.0                 US             0   \n",
       "2   60000.0             GBP        73824.0                 GB             0   \n",
       "3   55000.0             GBP        67672.0                 GB             0   \n",
       "4  290000.0             USD       290000.0                 US             0   \n",
       "\n",
       "  company_location company_size  \n",
       "0               US            L  \n",
       "1               US            L  \n",
       "2               GB            M  \n",
       "3               GB            M  \n",
       "4               US            M  "
      ]
     },
     "execution_count": 118,
     "metadata": {},
     "output_type": "execute_result"
    }
   ],
   "source": [
    "df.head()"
   ]
  },
  {
   "cell_type": "code",
   "execution_count": 119,
   "id": "27d6bce9-a540-4bd9-b4c3-f31bc2ae1671",
   "metadata": {
    "tags": []
   },
   "outputs": [
    {
     "data": {
      "text/plain": [
       "work_year                4\n",
       "experience_level         4\n",
       "employment_type          4\n",
       "job_title              118\n",
       "salary                1341\n",
       "salary_currency         22\n",
       "salary_in_usd         1616\n",
       "employee_residence      85\n",
       "remote_ratio             3\n",
       "company_location        73\n",
       "company_size             3\n",
       "dtype: int64"
      ]
     },
     "execution_count": 119,
     "metadata": {},
     "output_type": "execute_result"
    }
   ],
   "source": [
    "df.nunique()"
   ]
  },
  {
   "cell_type": "code",
   "execution_count": 120,
   "id": "cc075636-5a51-442b-824f-365701550f1e",
   "metadata": {
    "tags": []
   },
   "outputs": [],
   "source": [
    "# Map dicts for columns experience_level, employment_type and company_size\n",
    "experience_level_map = {\n",
    "    'EN': 'Entry-level',\n",
    "    'MI': 'Mid-level',\n",
    "    'SE': 'Senior-level',\n",
    "    'EX': 'Executive-level'\n",
    "}\n",
    "\n",
    "employment_type_map = {\n",
    "    'PT': 'Part-time',\n",
    "    'FT': 'Full-time',\n",
    "    'CT': 'Contract',\n",
    "    'FL': 'Freelance'\n",
    "}\n",
    "\n",
    "remote_ratio_map = {\n",
    "    0  : 'On-site',\n",
    "    50 : 'Hybrid',\n",
    "    100: 'Fully remote'\n",
    "}\n",
    "\n",
    "company_size_map = {\n",
    "    'S': 'Small',\n",
    "    'M': 'Medium',\n",
    "    'L': 'Large'\n",
    "}"
   ]
  },
  {
   "cell_type": "code",
   "execution_count": 122,
   "id": "7f168685-0c0f-456f-9e16-fc5ea8d43ccf",
   "metadata": {
    "tags": []
   },
   "outputs": [
    {
     "name": "stdout",
     "output_type": "stream",
     "text": [
      "['Senior-level' 'Mid-level' 'Entry-level' 'Executive-level']\n",
      "['Full-time' 'Contract' 'Part-time' 'Freelance']\n",
      "['On-site' 'Fully remote' 'Hybrid']\n",
      "['Large' 'Medium' 'Small']\n"
     ]
    }
   ],
   "source": [
    "df['experience_level'] = df['experience_level'].map(experience_level_map)\n",
    "print(df['experience_level'].unique())\n",
    "\n",
    "df['employment_type'] = df['employment_type'].map(employment_type_map)\n",
    "print(df['employment_type'].unique())\n",
    "\n",
    "df['remote_ratio'] = df['remote_ratio'].map(remote_ratio_map)\n",
    "print(df['remote_ratio'].unique())\n",
    "\n",
    "df['company_size'] = df['company_size'].map(company_size_map)\n",
    "print(df['company_size'].unique())"
   ]
  },
  {
   "cell_type": "markdown",
   "id": "116ac72a-4215-4647-8009-a44dcb124516",
   "metadata": {},
   "source": [
    "### Change iso2 codes to the real country names"
   ]
  },
  {
   "cell_type": "code",
   "execution_count": 123,
   "id": "38597abd-f375-4ae8-8ffa-9b87a3c2f440",
   "metadata": {
    "tags": []
   },
   "outputs": [
    {
     "data": {
      "text/plain": [
       "73"
      ]
     },
     "execution_count": 123,
     "metadata": {},
     "output_type": "execute_result"
    }
   ],
   "source": [
    "df['company_location'].nunique()"
   ]
  },
  {
   "cell_type": "code",
   "execution_count": 124,
   "id": "b3198cd1-7fc0-43fc-a779-504942bebdff",
   "metadata": {
    "tags": []
   },
   "outputs": [
    {
     "data": {
      "text/plain": [
       "85"
      ]
     },
     "execution_count": 124,
     "metadata": {},
     "output_type": "execute_result"
    }
   ],
   "source": [
    "df['employee_residence'].nunique()"
   ]
  },
  {
   "cell_type": "code",
   "execution_count": 127,
   "id": "e2c8746d-b7f9-477f-8b9c-d7eec92d8c15",
   "metadata": {
    "tags": []
   },
   "outputs": [
    {
     "data": {
      "text/plain": [
       "company_location\n",
       "AD     1\n",
       "HN     1\n",
       "HR     1\n",
       "HU     1\n",
       "IE     1\n",
       "      ..\n",
       "CA     5\n",
       "AU     5\n",
       "GB     8\n",
       "DE    10\n",
       "US    32\n",
       "Name: employee_residence, Length: 73, dtype: int64"
      ]
     },
     "execution_count": 127,
     "metadata": {},
     "output_type": "execute_result"
    }
   ],
   "source": [
    "df.groupby('company_location')['employee_residence'].nunique().sort_values()"
   ]
  },
  {
   "cell_type": "code",
   "execution_count": 128,
   "id": "37c97860-7c30-421d-9fc9-c3ee054f4cd0",
   "metadata": {
    "tags": []
   },
   "outputs": [],
   "source": [
    "countries = {country.alpha_2 : country.name for country in pycountry.countries}\n",
    "\n",
    "df['company_location'] = df['company_location'].map(countries)\n",
    "\n",
    "df['employee_residence'] = df['employee_residence'].map(countries)"
   ]
  },
  {
   "cell_type": "code",
   "execution_count": 130,
   "id": "9deef197-7941-4a0a-b16f-cbe75ded9768",
   "metadata": {
    "tags": []
   },
   "outputs": [
    {
     "data": {
      "text/plain": [
       "(7974, 11)"
      ]
     },
     "execution_count": 130,
     "metadata": {},
     "output_type": "execute_result"
    }
   ],
   "source": [
    "df.shape"
   ]
  },
  {
   "cell_type": "code",
   "execution_count": 131,
   "id": "99b12acb-4ef3-4f50-969d-85cd4969a029",
   "metadata": {
    "tags": []
   },
   "outputs": [
    {
     "data": {
      "text/html": [
       "<div>\n",
       "<style scoped>\n",
       "    .dataframe tbody tr th:only-of-type {\n",
       "        vertical-align: middle;\n",
       "    }\n",
       "\n",
       "    .dataframe tbody tr th {\n",
       "        vertical-align: top;\n",
       "    }\n",
       "\n",
       "    .dataframe thead th {\n",
       "        text-align: right;\n",
       "    }\n",
       "</style>\n",
       "<table border=\"1\" class=\"dataframe\">\n",
       "  <thead>\n",
       "    <tr style=\"text-align: right;\">\n",
       "      <th></th>\n",
       "      <th>work_year</th>\n",
       "      <th>experience_level</th>\n",
       "      <th>employment_type</th>\n",
       "      <th>job_title</th>\n",
       "      <th>salary</th>\n",
       "      <th>salary_currency</th>\n",
       "      <th>salary_in_usd</th>\n",
       "      <th>employee_residence</th>\n",
       "      <th>remote_ratio</th>\n",
       "      <th>company_location</th>\n",
       "      <th>company_size</th>\n",
       "    </tr>\n",
       "  </thead>\n",
       "  <tbody>\n",
       "    <tr>\n",
       "      <th>0</th>\n",
       "      <td>2023</td>\n",
       "      <td>Senior-level</td>\n",
       "      <td>Full-time</td>\n",
       "      <td>Business Intelligence Engineer</td>\n",
       "      <td>202800.0</td>\n",
       "      <td>USD</td>\n",
       "      <td>202800.0</td>\n",
       "      <td>United States</td>\n",
       "      <td>On-site</td>\n",
       "      <td>United States</td>\n",
       "      <td>Large</td>\n",
       "    </tr>\n",
       "    <tr>\n",
       "      <th>1</th>\n",
       "      <td>2023</td>\n",
       "      <td>Senior-level</td>\n",
       "      <td>Full-time</td>\n",
       "      <td>Business Intelligence Engineer</td>\n",
       "      <td>104300.0</td>\n",
       "      <td>USD</td>\n",
       "      <td>104300.0</td>\n",
       "      <td>United States</td>\n",
       "      <td>On-site</td>\n",
       "      <td>United States</td>\n",
       "      <td>Large</td>\n",
       "    </tr>\n",
       "    <tr>\n",
       "      <th>2</th>\n",
       "      <td>2023</td>\n",
       "      <td>Mid-level</td>\n",
       "      <td>Full-time</td>\n",
       "      <td>Data Manager</td>\n",
       "      <td>60000.0</td>\n",
       "      <td>GBP</td>\n",
       "      <td>73824.0</td>\n",
       "      <td>United Kingdom</td>\n",
       "      <td>On-site</td>\n",
       "      <td>United Kingdom</td>\n",
       "      <td>Medium</td>\n",
       "    </tr>\n",
       "    <tr>\n",
       "      <th>3</th>\n",
       "      <td>2023</td>\n",
       "      <td>Mid-level</td>\n",
       "      <td>Full-time</td>\n",
       "      <td>Data Manager</td>\n",
       "      <td>55000.0</td>\n",
       "      <td>GBP</td>\n",
       "      <td>67672.0</td>\n",
       "      <td>United Kingdom</td>\n",
       "      <td>On-site</td>\n",
       "      <td>United Kingdom</td>\n",
       "      <td>Medium</td>\n",
       "    </tr>\n",
       "    <tr>\n",
       "      <th>4</th>\n",
       "      <td>2023</td>\n",
       "      <td>Senior-level</td>\n",
       "      <td>Full-time</td>\n",
       "      <td>Data Scientist</td>\n",
       "      <td>290000.0</td>\n",
       "      <td>USD</td>\n",
       "      <td>290000.0</td>\n",
       "      <td>United States</td>\n",
       "      <td>On-site</td>\n",
       "      <td>United States</td>\n",
       "      <td>Medium</td>\n",
       "    </tr>\n",
       "  </tbody>\n",
       "</table>\n",
       "</div>"
      ],
      "text/plain": [
       "   work_year experience_level employment_type                       job_title  \\\n",
       "0       2023     Senior-level       Full-time  Business Intelligence Engineer   \n",
       "1       2023     Senior-level       Full-time  Business Intelligence Engineer   \n",
       "2       2023        Mid-level       Full-time                    Data Manager   \n",
       "3       2023        Mid-level       Full-time                    Data Manager   \n",
       "4       2023     Senior-level       Full-time                  Data Scientist   \n",
       "\n",
       "     salary salary_currency  salary_in_usd employee_residence remote_ratio  \\\n",
       "0  202800.0             USD       202800.0      United States      On-site   \n",
       "1  104300.0             USD       104300.0      United States      On-site   \n",
       "2   60000.0             GBP        73824.0     United Kingdom      On-site   \n",
       "3   55000.0             GBP        67672.0     United Kingdom      On-site   \n",
       "4  290000.0             USD       290000.0      United States      On-site   \n",
       "\n",
       "  company_location company_size  \n",
       "0    United States        Large  \n",
       "1    United States        Large  \n",
       "2   United Kingdom       Medium  \n",
       "3   United Kingdom       Medium  \n",
       "4    United States       Medium  "
      ]
     },
     "execution_count": 131,
     "metadata": {},
     "output_type": "execute_result"
    }
   ],
   "source": [
    "df.head()"
   ]
  },
  {
   "cell_type": "code",
   "execution_count": 132,
   "id": "90add607-d58b-46d6-95ae-7bdf4f0d1020",
   "metadata": {
    "tags": []
   },
   "outputs": [],
   "source": [
    "# Save final version to csv\n",
    "df.to_csv('salaries_final.csv', index=False)"
   ]
  },
  {
   "cell_type": "markdown",
   "id": "b2957323-aee5-4495-a3f4-4a6dfc662db6",
   "metadata": {},
   "source": [
    "## Tests"
   ]
  },
  {
   "cell_type": "markdown",
   "id": "de7887c8-f57d-4741-a410-56ebdb3a0cd5",
   "metadata": {},
   "source": [
    "**TEST #1**"
   ]
  },
  {
   "cell_type": "code",
   "execution_count": 219,
   "id": "b8a2c948-91cc-4c1e-a3a0-74f4175fd8b6",
   "metadata": {
    "tags": []
   },
   "outputs": [
    {
     "data": {
      "text/plain": [
       "remote_ratio\n",
       "Fully remote    144058.600260\n",
       "Hybrid           82561.337963\n",
       "On-site         155943.030549\n",
       "Name: salary_in_usd, dtype: float64"
      ]
     },
     "execution_count": 219,
     "metadata": {},
     "output_type": "execute_result"
    }
   ],
   "source": [
    "df.groupby('remote_ratio')['salary_in_usd'].mean()"
   ]
  },
  {
   "cell_type": "markdown",
   "id": "6b206362-8789-4117-b8a0-16f791ff3d84",
   "metadata": {},
   "source": [
    "### 1. Question: Is people working on a hybrid type of work get paid less than people working on Fully remote or On-site?\n",
    "\n",
    "**Null Hypothesis**: People working on a hybrid type of work get paid the same as people working on Fully remote or On-site.\n",
    "\n",
    "**Alternative Hypothesis**: People working on a hybrid type of work get paid less than people working on Fully remote or On-site.\n",
    "\n",
    "Threshold (alpha) = 5%\n",
    "\n",
    "Countries to consider = all"
   ]
  },
  {
   "cell_type": "code",
   "execution_count": 220,
   "id": "912b04a2-0997-46f4-9a1c-3c6213e96f92",
   "metadata": {
    "tags": []
   },
   "outputs": [
    {
     "data": {
      "text/plain": [
       "((216,), (7758,))"
      ]
     },
     "execution_count": 220,
     "metadata": {},
     "output_type": "execute_result"
    }
   ],
   "source": [
    "hybrid_salaries = df[df['remote_ratio'] == 'Hybrid']['salary_in_usd']\n",
    "non_hybrid_salaries = df[df['remote_ratio'] != 'Hybrid']['salary_in_usd']\n",
    "\n",
    "hybrid_salaries.shape, non_hybrid_salaries.shape"
   ]
  },
  {
   "cell_type": "markdown",
   "id": "752c2f83-08d0-45a8-a1e7-d3316dec85d7",
   "metadata": {},
   "source": [
    "#### Imbalanced data\n",
    "\n",
    "1. `Bootstrap` - Resample with replacement from both groups. This can help in estimating the sampling distribution and confidence intervals."
   ]
  },
  {
   "cell_type": "code",
   "execution_count": 221,
   "id": "082f7d44-4473-4dae-b362-091f20298741",
   "metadata": {
    "tags": []
   },
   "outputs": [],
   "source": [
    "def bootstrap(data, num_samples=1000):\n",
    "    sample_means = []\n",
    "    for _ in range(num_samples):\n",
    "        sample = data.sample(len(data), replace=True)\n",
    "        sample_means.append(np.mean(sample))\n",
    "    return sample_means\n",
    "\n",
    "hybrid_bootstrap_means = bootstrap(hybrid_salaries)\n",
    "non_hybrid_bootstrap_means = bootstrap(non_hybrid_salaries)"
   ]
  },
  {
   "cell_type": "code",
   "execution_count": 222,
   "id": "cc229165-d7e7-46b2-a1df-f7f4c68ffaf1",
   "metadata": {
    "tags": []
   },
   "outputs": [
    {
     "name": "stdout",
     "output_type": "stream",
     "text": [
      "Test Statistic: -530.7556563522479\n",
      "P-Value: 0.0\n",
      "Reject null hypothesis: There is a significant difference in salaries.\n"
     ]
    }
   ],
   "source": [
    "# Perform t-test\n",
    "statistic, p_value = stats.ttest_ind(hybrid_bootstrap_means, non_hybrid_bootstrap_means)\n",
    "\n",
    "# Define significance level (alpha)\n",
    "alpha = 0.05\n",
    "\n",
    "# Print results\n",
    "print(f'Test Statistic: {statistic}')\n",
    "print(f'P-Value: {p_value}')\n",
    "\n",
    "# Compare p-value with significance level\n",
    "if p_value < alpha:\n",
    "    print(\"Reject null hypothesis: There is a significant difference in salaries.\")\n",
    "else:\n",
    "    print(\"Fail to reject null hypothesis: There is no significant difference in salaries.\")"
   ]
  },
  {
   "cell_type": "markdown",
   "id": "df220691-6502-40fb-beed-2a39a63da19f",
   "metadata": {},
   "source": [
    "2. `stats.mannwhitneyu` is a non-parametric test that can be used to compare two independent samples."
   ]
  },
  {
   "cell_type": "code",
   "execution_count": 223,
   "id": "0eaac800-7613-4a37-b509-8ce824949086",
   "metadata": {
    "tags": []
   },
   "outputs": [
    {
     "name": "stdout",
     "output_type": "stream",
     "text": [
      "U Statistic: 294961.0\n",
      "P-Value: 8.191832740925051e-60\n",
      "Reject null hypothesis: There is a significant difference in salaries.\n"
     ]
    }
   ],
   "source": [
    "# Perform Mann-Whitney U Test\n",
    "U_statistic, p_value = stats.mannwhitneyu(hybrid_salaries, non_hybrid_salaries, alternative='less')\n",
    "\n",
    "# Define significance level (alpha)\n",
    "alpha = 0.05\n",
    "\n",
    "# Print results\n",
    "print(f'U Statistic: {U_statistic}')\n",
    "print(f'P-Value: {p_value}')\n",
    "\n",
    "# Compare p-value with significance level\n",
    "if p_value < alpha:\n",
    "    print(\"Reject null hypothesis: There is a significant difference in salaries.\")\n",
    "else:\n",
    "    print(\"Fail to reject null hypothesis: There is no significant difference in salaries.\")\n"
   ]
  },
  {
   "cell_type": "markdown",
   "id": "82d75e04-f31d-4b87-ab3d-2c07ce9a90c1",
   "metadata": {},
   "source": [
    "#### The result\n",
    "\n",
    "**Reject null hypothesis: There is a significant difference in salaries.**"
   ]
  },
  {
   "cell_type": "markdown",
   "id": "e8b6db50-092d-43eb-ae38-3259401d566f",
   "metadata": {},
   "source": [
    " "
   ]
  },
  {
   "cell_type": "markdown",
   "id": "e600ccbc-dc6d-47df-859c-fe55c6243b60",
   "metadata": {},
   "source": [
    "**TEST #2**"
   ]
  },
  {
   "cell_type": "code",
   "execution_count": 230,
   "id": "155b8176-f3b3-4d77-ae1d-09dfcff5659b",
   "metadata": {
    "tags": []
   },
   "outputs": [
    {
     "data": {
      "text/plain": [
       "77621.66386554622"
      ]
     },
     "execution_count": 230,
     "metadata": {},
     "output_type": "execute_result"
    }
   ],
   "source": [
    "df[df['company_location'] != df['employee_residence']].salary_in_usd.mean()"
   ]
  },
  {
   "cell_type": "code",
   "execution_count": 231,
   "id": "e81de60f-54f6-4426-89ce-85e5ff11e160",
   "metadata": {
    "tags": []
   },
   "outputs": [
    {
     "data": {
      "text/plain": [
       "150456.25843411838"
      ]
     },
     "execution_count": 231,
     "metadata": {},
     "output_type": "execute_result"
    }
   ],
   "source": [
    "df[df['company_location'] == df['employee_residence']].salary_in_usd.mean()"
   ]
  },
  {
   "cell_type": "markdown",
   "id": "25630726-6d51-4928-ad64-db6bc05b531b",
   "metadata": {},
   "source": [
    "### 2. Question: Do residents of other countries receive lower wages than citizens of the company's country?\n",
    "\n",
    "**Null Hypothesis**: Residents of other countries do not receive lower wages than citizens of the company's country.\n",
    "\n",
    "**Alternative Hypothesis**: Residents of other countries receive lower wages than citizens of the company's country.\n",
    "\n",
    "Threshold (alpha) = 5%\n",
    "\n",
    "Countries to consider = all"
   ]
  },
  {
   "cell_type": "code",
   "execution_count": 245,
   "id": "c1fc4f41-dae5-4fde-b916-a63d0f16f388",
   "metadata": {
    "tags": []
   },
   "outputs": [
    {
     "data": {
      "text/plain": [
       "((7855,), (119,))"
      ]
     },
     "execution_count": 245,
     "metadata": {},
     "output_type": "execute_result"
    }
   ],
   "source": [
    "residents = df[df['company_location'] == df['employee_residence']]['salary_in_usd']\n",
    "non_residents = df[df['company_location'] != df['employee_residence']]['salary_in_usd']\n",
    "\n",
    "residents.shape, non_residents.shape"
   ]
  },
  {
   "cell_type": "markdown",
   "id": "adfc80f8-0490-4951-897e-26b70c4ee679",
   "metadata": {},
   "source": [
    "#### Imbalanced data"
   ]
  },
  {
   "cell_type": "code",
   "execution_count": 251,
   "id": "3969110b-bd86-4dea-81c6-5dab1ade3511",
   "metadata": {
    "tags": []
   },
   "outputs": [
    {
     "name": "stdout",
     "output_type": "stream",
     "text": [
      "U Statistic: 777603.5\n",
      "P-Value: 1.0\n",
      "Fail to reject null hypothesis: Residents of other countries do not receive lower wages than citizens of the company's country.\n"
     ]
    }
   ],
   "source": [
    "# Perform Mann-Whitney U Test\n",
    "U_statistic, p_value = stats.mannwhitneyu(residents, non_residents, alternative='less')\n",
    "\n",
    "# Define significance level (alpha)\n",
    "alpha = 0.05\n",
    "\n",
    "# Print results\n",
    "print(f'U Statistic: {U_statistic}')\n",
    "print(f'P-Value: {p_value}')\n",
    "\n",
    "# Compare p-value with significance level\n",
    "if p_value < alpha:\n",
    "    print(\"Reject null hypothesis: Residents of other countries receive lower wages than citizens of the company's country.\")\n",
    "else:\n",
    "    print(\"Fail to reject null hypothesis: Residents of other countries do not receive lower wages than citizens of the company's country.\")"
   ]
  },
  {
   "cell_type": "code",
   "execution_count": 252,
   "id": "b06be7ea-c979-45c8-8f89-35448901e905",
   "metadata": {
    "tags": []
   },
   "outputs": [
    {
     "name": "stdout",
     "output_type": "stream",
     "text": [
      "U Statistic: 473.59083987352926\n",
      "P-Value: 0.0\n",
      "Reject null hypothesis: Residents of other countries receive lower wages than citizens of the company's country.\n"
     ]
    }
   ],
   "source": [
    "# Perform Mann-Whitney U Test\n",
    "U_statistic, p_value = stats.ttest_ind(bootstrap(residents), bootstrap(non_residents))\n",
    "\n",
    "# Define significance level (alpha)\n",
    "alpha = 0.05\n",
    "\n",
    "# Print results\n",
    "print(f'U Statistic: {U_statistic}')\n",
    "print(f'P-Value: {p_value}')\n",
    "\n",
    "# Compare p-value with significance level\n",
    "if p_value < alpha:\n",
    "    print(\"Reject null hypothesis: Residents of other countries receive lower wages than citizens of the company's country.\")\n",
    "else:\n",
    "    print(\"Fail to reject null hypothesis: Residents of other countries do not receive lower wages than citizens of the company's country.\")"
   ]
  }
 ],
 "metadata": {
  "kernelspec": {
   "display_name": "Python 3 (ipykernel)",
   "language": "python",
   "name": "python3"
  },
  "language_info": {
   "codemirror_mode": {
    "name": "ipython",
    "version": 3
   },
   "file_extension": ".py",
   "mimetype": "text/x-python",
   "name": "python",
   "nbconvert_exporter": "python",
   "pygments_lexer": "ipython3",
   "version": "3.10.5"
  }
 },
 "nbformat": 4,
 "nbformat_minor": 5
}
